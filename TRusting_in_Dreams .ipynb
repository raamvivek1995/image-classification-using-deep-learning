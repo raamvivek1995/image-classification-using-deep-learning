{
  "nbformat": 4,
  "nbformat_minor": 0,
  "metadata": {
    "colab": {
      "name": "TRusting in Dreams.ipynb",
      "provenance": [],
      "collapsed_sections": []
    },
    "kernelspec": {
      "name": "python3",
      "display_name": "Python 3"
    },
    "language_info": {
      "name": "python"
    }
  },
  "cells": [
    {
      "cell_type": "code",
      "metadata": {
        "id": "043nr5cFvQic",
        "colab": {
          "base_uri": "https://localhost:8080/"
        },
        "outputId": "8c8a8f67-5793-4e4f-f360-f2ec6c7cdd78"
      },
      "source": [
        "import keras_preprocessing\n",
        "from keras_preprocessing import image\n",
        "from keras_preprocessing.image import ImageDataGenerator\n",
        "import tensorflow_hub as hub\n",
        "import tensorflow as tf\n",
        "#Here we are transforming every pixel value from [0,255] to [0,1] and storing it in two variables. So that it will be ready to be given as an input into the Neural Network model.\n",
        "train_datagen = ImageDataGenerator(rescale= 1./255)\n",
        "validation = ImageDataGenerator(rescale= 1./255)\n",
        "\n",
        "#Here we are getting all the dataset to train and validate and by giving the targetsize, the dimensions of the images will be resized to (224,224) and the class mode is categorical because we have only one type of class to predict.\n",
        "train_data = train_datagen.flow_from_directory('/content/drive/MyDrive/UD SculptureDataset/TRAIN',\n",
        "                                                 target_size = (224,224),\n",
        "                                                 batch_size = 34,\n",
        "                                                 class_mode = 'categorical')\n",
        "\n",
        "val_data = validation.flow_from_directory('/content/drive/MyDrive/UD SculptureDataset/VALIDATION',\n",
        "                                                 target_size = (224,224),\n",
        "                                                 batch_size = 34,\n",
        "                                                 class_mode = 'categorical')"
      ],
      "execution_count": 1,
      "outputs": [
        {
          "output_type": "stream",
          "name": "stdout",
          "text": [
            "Found 3615 images belonging to 24 classes.\n",
            "Found 385 images belonging to 24 classes.\n"
          ]
        }
      ]
    },
    {
      "cell_type": "code",
      "metadata": {
        "colab": {
          "base_uri": "https://localhost:8080/"
        },
        "id": "7_93Zl3O8AgF",
        "outputId": "9f1f92b4-3fec-466a-d1a9-9f8fc0f2d222"
      },
      "source": [
        "#Efficient lite4 pretrained model is taken and given to the variable base_model.\n",
        "\n",
        "base_model = hub.KerasLayer(\"https://tfhub.dev/tensorflow/efficientnet/lite4/feature-vector/2\",\n",
        "                               trainable=False)\n",
        "#We are defining a new model and passing the base model as a parameter to use the model and efficientnet model, activation as softmax to make the output to fit between 0 and 1.\n",
        "model = tf.keras.Sequential([\n",
        "        base_model,\n",
        "        tf.keras.layers.Dense(24, activation='softmax')\n",
        "])\n",
        "model.build([1, 224, 224, 3])\n",
        "model.summary()\n",
        "\n",
        "model.compile(optimizer='adam',\n",
        "                  loss='categorical_crossentropy',\n",
        "                  metrics=['accuracy'])\n",
        "\n",
        "#The model fit performs how well the model has been trained by predicting the test images.\n",
        "history = model.fit(train_data,epochs=10,validation_data=val_data)"
      ],
      "execution_count": 2,
      "outputs": [
        {
          "output_type": "stream",
          "name": "stdout",
          "text": [
            "Model: \"sequential\"\n",
            "_________________________________________________________________\n",
            " Layer (type)                Output Shape              Param #   \n",
            "=================================================================\n",
            " keras_layer (KerasLayer)    (1, 1280)                 11837936  \n",
            "                                                                 \n",
            " dense (Dense)               (1, 24)                   30744     \n",
            "                                                                 \n",
            "=================================================================\n",
            "Total params: 11,868,680\n",
            "Trainable params: 30,744\n",
            "Non-trainable params: 11,837,936\n",
            "_________________________________________________________________\n",
            "Epoch 1/10\n",
            "107/107 [==============================] - 3104s 29s/step - loss: 0.9009 - accuracy: 0.7970 - val_loss: 0.2750 - val_accuracy: 0.9558\n",
            "Epoch 2/10\n",
            "107/107 [==============================] - 1511s 14s/step - loss: 0.1787 - accuracy: 0.9685 - val_loss: 0.1462 - val_accuracy: 0.9818\n",
            "Epoch 3/10\n",
            "107/107 [==============================] - 1681s 16s/step - loss: 0.1014 - accuracy: 0.9834 - val_loss: 0.1132 - val_accuracy: 0.9870\n",
            "Epoch 4/10\n",
            "107/107 [==============================] - 1559s 15s/step - loss: 0.0673 - accuracy: 0.9925 - val_loss: 0.0875 - val_accuracy: 0.9896\n",
            "Epoch 5/10\n",
            "107/107 [==============================] - 1665s 16s/step - loss: 0.0475 - accuracy: 0.9961 - val_loss: 0.0697 - val_accuracy: 0.9948\n",
            "Epoch 6/10\n",
            "107/107 [==============================] - 1558s 15s/step - loss: 0.0358 - accuracy: 0.9983 - val_loss: 0.0621 - val_accuracy: 0.9922\n",
            "Epoch 7/10\n",
            "107/107 [==============================] - 1853s 17s/step - loss: 0.0280 - accuracy: 0.9986 - val_loss: 0.0562 - val_accuracy: 0.9922\n",
            "Epoch 8/10\n",
            "107/107 [==============================] - 1620s 15s/step - loss: 0.0225 - accuracy: 0.9989 - val_loss: 0.0500 - val_accuracy: 0.9922\n",
            "Epoch 9/10\n",
            "107/107 [==============================] - 1584s 15s/step - loss: 0.0187 - accuracy: 0.9992 - val_loss: 0.0465 - val_accuracy: 0.9948\n",
            "Epoch 10/10\n",
            "107/107 [==============================] - 1627s 15s/step - loss: 0.0156 - accuracy: 0.9992 - val_loss: 0.0397 - val_accuracy: 0.9948\n"
          ]
        }
      ]
    },
    {
      "cell_type": "code",
      "metadata": {
        "colab": {
          "base_uri": "https://localhost:8080/",
          "height": 329
        },
        "id": "HOnlo6D14061",
        "outputId": "b4d7dc3f-9f1d-4959-fa37-b6d93b2c0fdb"
      },
      "source": [
        "#Here we are taking the accuracy and validation accuracy from the output of model fit and plotting the train and validation accuracy graph\n",
        "\n",
        "import matplotlib.pyplot as plt\n",
        "acc = history.history[ 'accuracy' ]\n",
        "val_acc = history.history[ 'val_accuracy' ]\n",
        "epochs = range(len(acc))\n",
        "\n",
        "plt.plot ( epochs, acc )\n",
        "plt.plot ( epochs, val_acc )\n",
        "plt.title ('Training and validation accuracy')\n",
        "plt.ylabel('accuracy')\n",
        "plt.xlabel('epoch')\n",
        "plt.legend(['train', 'test'], loc='upper left')\n",
        "plt.figure()\n"
      ],
      "execution_count": 13,
      "outputs": [
        {
          "output_type": "execute_result",
          "data": {
            "text/plain": [
              "<Figure size 432x288 with 0 Axes>"
            ]
          },
          "metadata": {},
          "execution_count": 13
        },
        {
          "output_type": "display_data",
          "data": {
            "image/png": "[encoded data removed]",
            "text/plain": [
              "<Figure size 432x288 with 1 Axes>"
            ]
          },
          "metadata": {
            "needs_background": "light"
          }
        },
        {
          "output_type": "display_data",
          "data": {
            "text/plain": [
              "<Figure size 432x288 with 0 Axes>"
            ]
          },
          "metadata": {}
        }
      ]
    },
    {
      "cell_type": "code",
      "metadata": {
        "colab": {
          "base_uri": "https://localhost:8080/"
        },
        "id": "ixEzFNnm8DcG",
        "outputId": "dd8bbb3b-f2f9-458e-cf2c-7ddb584b500d"
      },
      "source": [
        "#Converting the model to tf.lite in the above step, which is the source to convert to onxx to be used in unity.\n",
        "\n",
        "converter = tf.lite.TFLiteConverter.from_keras_model(model)\n",
        "tflite_model = converter.convert()\n",
        "\n",
        "# Save the model.\n",
        "with open('model.tflite', 'wb') as f:\n",
        "  f.write(tflite_model)"
      ],
      "execution_count": 5,
      "outputs": [
        {
          "output_type": "stream",
          "name": "stdout",
          "text": [
            "INFO:tensorflow:Assets written to: /tmp/tmpa65rs3w6/assets\n"
          ]
        },
        {
          "output_type": "stream",
          "name": "stderr",
          "text": [
            "INFO:tensorflow:Assets written to: /tmp/tmpa65rs3w6/assets\n",
            "WARNING:absl:Buffer deduplication procedure will be skipped when flatbuffer library is not properly loaded\n"
          ]
        }
      ]
    },
    {
      "cell_type": "code",
      "metadata": {
        "colab": {
          "base_uri": "https://localhost:8080/"
        },
        "id": "e9jyKO7l8Fwz",
        "outputId": "17399071-cd6c-4146-dc56-2dceaab650d7"
      },
      "source": [
        "!pip install onnxruntime"
      ],
      "execution_count": 6,
      "outputs": [
        {
          "output_type": "stream",
          "name": "stdout",
          "text": [
            "Collecting onnxruntime\n",
            "  Downloading onnxruntime-1.9.0-cp37-cp37m-manylinux_2_17_x86_64.manylinux2014_x86_64.whl (4.8 MB)\n",
            "\u001b[K     |████████████████████████████████| 4.8 MB 17.2 MB/s \n",
            "\u001b[?25hRequirement already satisfied: flatbuffers in /usr/local/lib/python3.7/dist-packages (from onnxruntime) (2.0)\n",
            "Requirement already satisfied: protobuf in /usr/local/lib/python3.7/dist-packages (from onnxruntime) (3.17.3)\n",
            "Requirement already satisfied: numpy>=1.16.6 in /usr/local/lib/python3.7/dist-packages (from onnxruntime) (1.19.5)\n",
            "Requirement already satisfied: six>=1.9 in /usr/local/lib/python3.7/dist-packages (from protobuf->onnxruntime) (1.15.0)\n",
            "Installing collected packages: onnxruntime\n",
            "Successfully installed onnxruntime-1.9.0\n"
          ]
        }
      ]
    },
    {
      "cell_type": "code",
      "metadata": {
        "colab": {
          "base_uri": "https://localhost:8080/",
          "height": 514
        },
        "id": "Duv_M8F_8IDN",
        "outputId": "9f70bdba-55b9-4d9c-98a4-6ec42ca7ab64"
      },
      "source": [
        "!pip install -U tf2onnx"
      ],
      "execution_count": 7,
      "outputs": [
        {
          "output_type": "stream",
          "name": "stdout",
          "text": [
            "Collecting tf2onnx\n",
            "  Downloading tf2onnx-1.9.3-py3-none-any.whl (435 kB)\n",
            "\u001b[?25l\r\u001b[K     |▊                               | 10 kB 23.2 MB/s eta 0:00:01\r\u001b[K     |█▌                              | 20 kB 29.6 MB/s eta 0:00:01\r\u001b[K     |██▎                             | 30 kB 34.0 MB/s eta 0:00:01\r\u001b[K     |███                             | 40 kB 34.4 MB/s eta 0:00:01\r\u001b[K     |███▊                            | 51 kB 37.7 MB/s eta 0:00:01\r\u001b[K     |████▌                           | 61 kB 34.6 MB/s eta 0:00:01\r\u001b[K     |█████▎                          | 71 kB 31.2 MB/s eta 0:00:01\r\u001b[K     |██████                          | 81 kB 30.4 MB/s eta 0:00:01\r\u001b[K     |██████▊                         | 92 kB 31.1 MB/s eta 0:00:01\r\u001b[K     |███████▌                        | 102 kB 31.6 MB/s eta 0:00:01\r\u001b[K     |████████▎                       | 112 kB 31.6 MB/s eta 0:00:01\r\u001b[K     |█████████                       | 122 kB 31.6 MB/s eta 0:00:01\r\u001b[K     |█████████▉                      | 133 kB 31.6 MB/s eta 0:00:01\r\u001b[K     |██████████▌                     | 143 kB 31.6 MB/s eta 0:00:01\r\u001b[K     |███████████▎                    | 153 kB 31.6 MB/s eta 0:00:01\r\u001b[K     |████████████                    | 163 kB 31.6 MB/s eta 0:00:01\r\u001b[K     |████████████▉                   | 174 kB 31.6 MB/s eta 0:00:01\r\u001b[K     |█████████████▌                  | 184 kB 31.6 MB/s eta 0:00:01\r\u001b[K     |██████████████▎                 | 194 kB 31.6 MB/s eta 0:00:01\r\u001b[K     |███████████████                 | 204 kB 31.6 MB/s eta 0:00:01\r\u001b[K     |███████████████▉                | 215 kB 31.6 MB/s eta 0:00:01\r\u001b[K     |████████████████▋               | 225 kB 31.6 MB/s eta 0:00:01\r\u001b[K     |█████████████████▎              | 235 kB 31.6 MB/s eta 0:00:01\r\u001b[K     |██████████████████              | 245 kB 31.6 MB/s eta 0:00:01\r\u001b[K     |██████████████████▉             | 256 kB 31.6 MB/s eta 0:00:01\r\u001b[K     |███████████████████▋            | 266 kB 31.6 MB/s eta 0:00:01\r\u001b[K     |████████████████████▎           | 276 kB 31.6 MB/s eta 0:00:01\r\u001b[K     |█████████████████████           | 286 kB 31.6 MB/s eta 0:00:01\r\u001b[K     |█████████████████████▉          | 296 kB 31.6 MB/s eta 0:00:01\r\u001b[K     |██████████████████████▋         | 307 kB 31.6 MB/s eta 0:00:01\r\u001b[K     |███████████████████████▎        | 317 kB 31.6 MB/s eta 0:00:01\r\u001b[K     |████████████████████████        | 327 kB 31.6 MB/s eta 0:00:01\r\u001b[K     |████████████████████████▉       | 337 kB 31.6 MB/s eta 0:00:01\r\u001b[K     |█████████████████████████▋      | 348 kB 31.6 MB/s eta 0:00:01\r\u001b[K     |██████████████████████████▍     | 358 kB 31.6 MB/s eta 0:00:01\r\u001b[K     |███████████████████████████     | 368 kB 31.6 MB/s eta 0:00:01\r\u001b[K     |███████████████████████████▉    | 378 kB 31.6 MB/s eta 0:00:01\r\u001b[K     |████████████████████████████▋   | 389 kB 31.6 MB/s eta 0:00:01\r\u001b[K     |█████████████████████████████▍  | 399 kB 31.6 MB/s eta 0:00:01\r\u001b[K     |██████████████████████████████  | 409 kB 31.6 MB/s eta 0:00:01\r\u001b[K     |██████████████████████████████▉ | 419 kB 31.6 MB/s eta 0:00:01\r\u001b[K     |███████████████████████████████▋| 430 kB 31.6 MB/s eta 0:00:01\r\u001b[K     |████████████████████████████████| 435 kB 31.6 MB/s \n",
            "\u001b[?25hRequirement already satisfied: six in /usr/local/lib/python3.7/dist-packages (from tf2onnx) (1.15.0)\n",
            "Requirement already satisfied: requests in /usr/local/lib/python3.7/dist-packages (from tf2onnx) (2.23.0)\n",
            "Collecting onnx>=1.4.1\n",
            "  Downloading onnx-1.10.2-cp37-cp37m-manylinux_2_12_x86_64.manylinux2010_x86_64.whl (12.7 MB)\n",
            "\u001b[K     |████████████████████████████████| 12.7 MB 47.4 MB/s \n",
            "\u001b[?25hRequirement already satisfied: numpy>=1.14.1 in /usr/local/lib/python3.7/dist-packages (from tf2onnx) (1.19.5)\n",
            "Collecting flatbuffers~=1.12\n",
            "  Downloading flatbuffers-1.12-py2.py3-none-any.whl (15 kB)\n",
            "Requirement already satisfied: typing-extensions>=3.6.2.1 in /usr/local/lib/python3.7/dist-packages (from onnx>=1.4.1->tf2onnx) (3.10.0.2)\n",
            "Requirement already satisfied: protobuf in /usr/local/lib/python3.7/dist-packages (from onnx>=1.4.1->tf2onnx) (3.17.3)\n",
            "Requirement already satisfied: certifi>=2017.4.17 in /usr/local/lib/python3.7/dist-packages (from requests->tf2onnx) (2021.10.8)\n",
            "Requirement already satisfied: chardet<4,>=3.0.2 in /usr/local/lib/python3.7/dist-packages (from requests->tf2onnx) (3.0.4)\n",
            "Requirement already satisfied: urllib3!=1.25.0,!=1.25.1,<1.26,>=1.21.1 in /usr/local/lib/python3.7/dist-packages (from requests->tf2onnx) (1.24.3)\n",
            "Requirement already satisfied: idna<3,>=2.5 in /usr/local/lib/python3.7/dist-packages (from requests->tf2onnx) (2.10)\n",
            "Installing collected packages: onnx, flatbuffers, tf2onnx\n",
            "  Attempting uninstall: flatbuffers\n",
            "    Found existing installation: flatbuffers 2.0\n",
            "    Uninstalling flatbuffers-2.0:\n",
            "      Successfully uninstalled flatbuffers-2.0\n",
            "Successfully installed flatbuffers-1.12 onnx-1.10.2 tf2onnx-1.9.3\n"
          ]
        },
        {
          "output_type": "display_data",
          "data": {
            "application/vnd.colab-display-data+json": {
              "pip_warning": {
                "packages": [
                  "flatbuffers"
                ]
              }
            }
          },
          "metadata": {}
        }
      ]
    },
    {
      "cell_type": "code",
      "metadata": {
        "colab": {
          "base_uri": "https://localhost:8080/"
        },
        "id": "cEbkPPt48KYc",
        "outputId": "b2316e54-ab78-4d56-8701-b1721c76cce0"
      },
      "source": [
        "!pip install git+https://github.com/onnx/tensorflow-onnx"
      ],
      "execution_count": 8,
      "outputs": [
        {
          "output_type": "stream",
          "name": "stdout",
          "text": [
            "Collecting git+https://github.com/onnx/tensorflow-onnx\n",
            "  Cloning https://github.com/onnx/tensorflow-onnx to /tmp/pip-req-build-qj8m4rhu\n",
            "  Running command git clone -q https://github.com/onnx/tensorflow-onnx /tmp/pip-req-build-qj8m4rhu\n",
            "Requirement already satisfied: numpy>=1.14.1 in /usr/local/lib/python3.7/dist-packages (from tf2onnx==1.10.0) (1.19.5)\n",
            "Requirement already satisfied: onnx>=1.4.1 in /usr/local/lib/python3.7/dist-packages (from tf2onnx==1.10.0) (1.10.2)\n",
            "Requirement already satisfied: requests in /usr/local/lib/python3.7/dist-packages (from tf2onnx==1.10.0) (2.23.0)\n",
            "Requirement already satisfied: six in /usr/local/lib/python3.7/dist-packages (from tf2onnx==1.10.0) (1.15.0)\n",
            "Requirement already satisfied: flatbuffers~=1.12 in /usr/local/lib/python3.7/dist-packages (from tf2onnx==1.10.0) (1.12)\n",
            "Requirement already satisfied: protobuf in /usr/local/lib/python3.7/dist-packages (from onnx>=1.4.1->tf2onnx==1.10.0) (3.17.3)\n",
            "Requirement already satisfied: typing-extensions>=3.6.2.1 in /usr/local/lib/python3.7/dist-packages (from onnx>=1.4.1->tf2onnx==1.10.0) (3.10.0.2)\n",
            "Requirement already satisfied: chardet<4,>=3.0.2 in /usr/local/lib/python3.7/dist-packages (from requests->tf2onnx==1.10.0) (3.0.4)\n",
            "Requirement already satisfied: certifi>=2017.4.17 in /usr/local/lib/python3.7/dist-packages (from requests->tf2onnx==1.10.0) (2021.10.8)\n",
            "Requirement already satisfied: idna<3,>=2.5 in /usr/local/lib/python3.7/dist-packages (from requests->tf2onnx==1.10.0) (2.10)\n",
            "Requirement already satisfied: urllib3!=1.25.0,!=1.25.1,<1.26,>=1.21.1 in /usr/local/lib/python3.7/dist-packages (from requests->tf2onnx==1.10.0) (1.24.3)\n",
            "Building wheels for collected packages: tf2onnx\n",
            "  Building wheel for tf2onnx (setup.py) ... \u001b[?25l\u001b[?25hdone\n",
            "  Created wheel for tf2onnx: filename=tf2onnx-1.10.0-py3-none-any.whl size=435728 sha256=995a468a8082a27d67b5967a0fbe800c1dfb29e44666de69e0467427b95e69af\n",
            "  Stored in directory: /tmp/pip-ephem-wheel-cache-okz2wpki/wheels/73/99/8e/3034c9b47124da4ac24a6ea72b8da1be5af878e37c2e953bb3\n",
            "Successfully built tf2onnx\n",
            "Installing collected packages: tf2onnx\n",
            "  Attempting uninstall: tf2onnx\n",
            "    Found existing installation: tf2onnx 1.9.3\n",
            "    Uninstalling tf2onnx-1.9.3:\n",
            "      Successfully uninstalled tf2onnx-1.9.3\n",
            "Successfully installed tf2onnx-1.10.0\n"
          ]
        }
      ]
    },
    {
      "cell_type": "code",
      "metadata": {
        "colab": {
          "base_uri": "https://localhost:8080/"
        },
        "id": "j2B6kRRr8M3O",
        "outputId": "3d19e042-b6eb-42d5-c85d-893d29d7bf60"
      },
      "source": [
        "!git clone https://github.com/onnx/tensorflow-onnx"
      ],
      "execution_count": 9,
      "outputs": [
        {
          "output_type": "stream",
          "name": "stdout",
          "text": [
            "Cloning into 'tensorflow-onnx'...\n",
            "remote: Enumerating objects: 14833, done.\u001b[K\n",
            "remote: Counting objects: 100% (1987/1987), done.\u001b[K\n",
            "remote: Compressing objects: 100% (859/859), done.\u001b[K\n",
            "remote: Total 14833 (delta 1390), reused 1560 (delta 1075), pack-reused 12846\u001b[K\n",
            "Receiving objects: 100% (14833/14833), 26.74 MiB | 29.29 MiB/s, done.\n",
            "Resolving deltas: 100% (11136/11136), done.\n"
          ]
        }
      ]
    },
    {
      "cell_type": "code",
      "metadata": {
        "colab": {
          "base_uri": "https://localhost:8080/"
        },
        "id": "QTf0FZRK8PuH",
        "outputId": "ea2d8a29-424b-470a-f922-77c4634b01af"
      },
      "source": [
        "!python /content/tensorflow-onnx/setup.py install"
      ],
      "execution_count": 10,
      "outputs": [
        {
          "output_type": "stream",
          "name": "stdout",
          "text": [
            "running install\n",
            "running bdist_egg\n",
            "running egg_info\n",
            "creating tf2onnx.egg-info\n",
            "writing tf2onnx.egg-info/PKG-INFO\n",
            "writing dependency_links to tf2onnx.egg-info/dependency_links.txt\n",
            "writing requirements to tf2onnx.egg-info/requires.txt\n",
            "writing top-level names to tf2onnx.egg-info/top_level.txt\n",
            "writing manifest file 'tf2onnx.egg-info/SOURCES.txt'\n",
            "listing git files failed - pretending there aren't any\n",
            "reading manifest file 'tf2onnx.egg-info/SOURCES.txt'\n",
            "writing manifest file 'tf2onnx.egg-info/SOURCES.txt'\n",
            "installing library code to build/bdist.linux-x86_64/egg\n",
            "running install_lib\n",
            "warning: install_lib: 'build/lib' does not exist -- no Python modules to install\n",
            "\n",
            "creating build\n",
            "creating build/bdist.linux-x86_64\n",
            "creating build/bdist.linux-x86_64/egg\n",
            "creating build/bdist.linux-x86_64/egg/EGG-INFO\n",
            "copying tf2onnx.egg-info/PKG-INFO -> build/bdist.linux-x86_64/egg/EGG-INFO\n",
            "copying tf2onnx.egg-info/SOURCES.txt -> build/bdist.linux-x86_64/egg/EGG-INFO\n",
            "copying tf2onnx.egg-info/dependency_links.txt -> build/bdist.linux-x86_64/egg/EGG-INFO\n",
            "copying tf2onnx.egg-info/requires.txt -> build/bdist.linux-x86_64/egg/EGG-INFO\n",
            "copying tf2onnx.egg-info/top_level.txt -> build/bdist.linux-x86_64/egg/EGG-INFO\n",
            "zip_safe flag not set; analyzing archive contents...\n",
            "creating dist\n",
            "creating 'dist/tf2onnx-1.10.0-py3.7.egg' and adding 'build/bdist.linux-x86_64/egg' to it\n",
            "removing 'build/bdist.linux-x86_64/egg' (and everything under it)\n",
            "Processing tf2onnx-1.10.0-py3.7.egg\n",
            "Copying tf2onnx-1.10.0-py3.7.egg to /usr/local/lib/python3.7/dist-packages\n",
            "Adding tf2onnx 1.10.0 to easy-install.pth file\n",
            "\n",
            "Installed /usr/local/lib/python3.7/dist-packages/tf2onnx-1.10.0-py3.7.egg\n",
            "Processing dependencies for tf2onnx==1.10.0\n",
            "Searching for flatbuffers==1.12\n",
            "Best match: flatbuffers 1.12\n",
            "Adding flatbuffers 1.12 to easy-install.pth file\n",
            "\n",
            "Using /usr/local/lib/python3.7/dist-packages\n",
            "Searching for six==1.15.0\n",
            "Best match: six 1.15.0\n",
            "Adding six 1.15.0 to easy-install.pth file\n",
            "\n",
            "Using /usr/local/lib/python3.7/dist-packages\n",
            "Searching for requests==2.23.0\n",
            "Best match: requests 2.23.0\n",
            "Adding requests 2.23.0 to easy-install.pth file\n",
            "\n",
            "Using /usr/local/lib/python3.7/dist-packages\n",
            "Searching for onnx==1.10.2\n",
            "Best match: onnx 1.10.2\n",
            "Adding onnx 1.10.2 to easy-install.pth file\n",
            "Installing backend-test-tools script to /usr/local/bin\n",
            "Installing check-model script to /usr/local/bin\n",
            "Installing check-node script to /usr/local/bin\n",
            "\n",
            "Using /usr/local/lib/python3.7/dist-packages\n",
            "Searching for numpy==1.19.5\n",
            "Best match: numpy 1.19.5\n",
            "Adding numpy 1.19.5 to easy-install.pth file\n",
            "Installing f2py script to /usr/local/bin\n",
            "Installing f2py3 script to /usr/local/bin\n",
            "Installing f2py3.7 script to /usr/local/bin\n",
            "\n",
            "Using /usr/local/lib/python3.7/dist-packages\n",
            "Searching for chardet==3.0.4\n",
            "Best match: chardet 3.0.4\n",
            "Adding chardet 3.0.4 to easy-install.pth file\n",
            "Installing chardetect script to /usr/local/bin\n",
            "\n",
            "Using /usr/local/lib/python3.7/dist-packages\n",
            "Searching for certifi==2021.10.8\n",
            "Best match: certifi 2021.10.8\n",
            "Adding certifi 2021.10.8 to easy-install.pth file\n",
            "\n",
            "Using /usr/local/lib/python3.7/dist-packages\n",
            "Searching for idna==2.10\n",
            "Best match: idna 2.10\n",
            "Adding idna 2.10 to easy-install.pth file\n",
            "\n",
            "Using /usr/local/lib/python3.7/dist-packages\n",
            "Searching for urllib3==1.24.3\n",
            "Best match: urllib3 1.24.3\n",
            "Adding urllib3 1.24.3 to easy-install.pth file\n",
            "\n",
            "Using /usr/local/lib/python3.7/dist-packages\n",
            "Searching for protobuf==3.17.3\n",
            "Best match: protobuf 3.17.3\n",
            "Adding protobuf 3.17.3 to easy-install.pth file\n",
            "\n",
            "Using /usr/local/lib/python3.7/dist-packages\n",
            "Searching for typing-extensions==3.10.0.2\n",
            "Best match: typing-extensions 3.10.0.2\n",
            "Adding typing-extensions 3.10.0.2 to easy-install.pth file\n",
            "\n",
            "Using /usr/local/lib/python3.7/dist-packages\n",
            "Finished processing dependencies for tf2onnx==1.10.0\n"
          ]
        }
      ]
    },
    {
      "cell_type": "code",
      "metadata": {
        "colab": {
          "base_uri": "https://localhost:8080/"
        },
        "id": "DLfiHtVf8SFc",
        "outputId": "b7d86543-fccb-4cbd-833b-86e69c5d1137"
      },
      "source": [
        "!python /content/tensorflow-onnx/setup.py bdist_wheel"
      ],
      "execution_count": 11,
      "outputs": [
        {
          "output_type": "stream",
          "name": "stdout",
          "text": [
            "running bdist_wheel\n",
            "running build\n",
            "running build_py\n",
            "running create_version\n",
            "installing to build/bdist.linux-x86_64/wheel\n",
            "running install\n",
            "running install_egg_info\n",
            "running egg_info\n",
            "writing tf2onnx.egg-info/PKG-INFO\n",
            "writing dependency_links to tf2onnx.egg-info/dependency_links.txt\n",
            "writing requirements to tf2onnx.egg-info/requires.txt\n",
            "writing top-level names to tf2onnx.egg-info/top_level.txt\n",
            "listing git files failed - pretending there aren't any\n",
            "reading manifest file 'tf2onnx.egg-info/SOURCES.txt'\n",
            "writing manifest file 'tf2onnx.egg-info/SOURCES.txt'\n",
            "Copying tf2onnx.egg-info to build/bdist.linux-x86_64/wheel/tf2onnx-1.10.0-py3.7.egg-info\n",
            "running install_scripts\n",
            "creating build/bdist.linux-x86_64/wheel/tf2onnx-1.10.0.dist-info/WHEEL\n",
            "creating 'dist/tf2onnx-1.10.0-py3-none-any.whl' and adding 'build/bdist.linux-x86_64/wheel' to it\n",
            "adding 'tf2onnx-1.10.0.dist-info/METADATA'\n",
            "adding 'tf2onnx-1.10.0.dist-info/WHEEL'\n",
            "adding 'tf2onnx-1.10.0.dist-info/top_level.txt'\n",
            "adding 'tf2onnx-1.10.0.dist-info/RECORD'\n",
            "removing build/bdist.linux-x86_64/wheel\n"
          ]
        }
      ]
    },
    {
      "cell_type": "code",
      "metadata": {
        "colab": {
          "base_uri": "https://localhost:8080/"
        },
        "id": "a6Sg81b68U3x",
        "outputId": "1ee14dba-1032-4391-b57d-06cf7307e4e1"
      },
      "source": [
        "#In the step we are converting the model to onxx file.\n",
        "\n",
        "!python -m tf2onnx.convert --opset 11 --tflite /content/model.tflite --output model1.onnx"
      ],
      "execution_count": 12,
      "outputs": [
        {
          "output_type": "stream",
          "name": "stdout",
          "text": [
            "/usr/lib/python3.7/runpy.py:125: RuntimeWarning: 'tf2onnx.convert' found in sys.modules after import of package 'tf2onnx', but prior to execution of 'tf2onnx.convert'; this may result in unpredictable behaviour\n",
            "  warn(RuntimeWarning(msg))\n",
            "2021-11-28 05:45:04,468 - INFO - Using tensorflow=2.7.0, onnx=1.10.2, tf2onnx=1.10.0/d018aa\n",
            "2021-11-28 05:45:04,468 - INFO - Using opset <onnx, 11>\n",
            "2021-11-28 05:45:05,353 - INFO - Optimizing ONNX model\n",
            "2021-11-28 05:45:07,498 - INFO - After optimization: Const -151 (339->188), GlobalAveragePool +1 (0->1), Identity -1 (1->0), ReduceMean -1 (1->0), Reshape -30 (30->0), Squeeze +1 (0->1), Transpose -364 (365->1)\n",
            "2021-11-28 05:45:07,696 - INFO - \n",
            "2021-11-28 05:45:07,696 - INFO - Successfully converted TensorFlow model /content/model.tflite to ONNX\n",
            "2021-11-28 05:45:07,696 - INFO - Model inputs: ['serving_default_keras_layer_input:0']\n",
            "2021-11-28 05:45:07,697 - INFO - Model outputs: ['StatefulPartitionedCall:0']\n",
            "2021-11-28 05:45:07,697 - INFO - ONNX model is saved at model1.onnx\n"
          ]
        }
      ]
    }
  ]
}